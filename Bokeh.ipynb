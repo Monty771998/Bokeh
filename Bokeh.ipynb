{
 "cells": [
  {
   "cell_type": "markdown",
   "id": "1a84ac83-5557-4925-b706-cacb691294f0",
   "metadata": {},
   "source": [
    "Q1. How can you create a Bokeh plot using Python code?"
   ]
  },
  {
   "cell_type": "markdown",
   "id": "bda77f40-fde5-44c5-8e2b-9d792046d45b",
   "metadata": {},
   "source": [
    "1)Install Bokeh: If you haven't already, install the Bokeh library using pip:\n",
    "\n",
    "    pip install bokeh\n",
    "\n",
    "2)Import Necessary Modules: Import the required modules from Bokeh to create plots.\n",
    "\n",
    "    from bokeh.plotting import figure, show\n",
    "\n",
    "3)Create Data: Prepare your data that you want to visualize. For example, create lists for x and y data points.\n",
    "\n",
    "    x = [1, 2, 3, 4, 5]\n",
    "    y = [6, 7, 2, 4, 5]\n",
    "\n",
    "4)Create a Figure: Create a figure object that will hold your plot.\n",
    "\n",
    "    p = figure(title=\"My Bokeh Plot\", x_axis_label='X-axis', y_axis_label='Y-axis')\n",
    "\n",
    "5)Add Glyphs: Add glyphs (geometric shapes) to the figure to represent your data. For example, use the line method\n",
    "              to create a line plot.\n",
    "\n",
    "    p.line(x, y, legend_label=\"Line Plot\", line_width=2)\n",
    "\n",
    "6)Customize the Plot: You can customize various aspects of the plot, such as titles, labels, colors, etc.\n",
    "\n",
    "    Show the Plot: Finally, use the show function to display the plot.\n",
    "\n",
    "    show(p)"
   ]
  },
  {
   "cell_type": "code",
   "execution_count": 7,
   "id": "709e3c99-ac87-4a1f-beeb-9d1a33cee832",
   "metadata": {},
   "outputs": [],
   "source": [
    "from bokeh.plotting import figure, show\n",
    "import matplotlib.pyplot as plt\n",
    "\n",
    "x = [1, 2, 3, 4, 5]\n",
    "y = [2, 4, 5, 4, 5]\n",
    "\n",
    "# Create a figure\n",
    "p = figure(title=\"My Bokeh Line Plot\", x_axis_label='X-axis', y_axis_label='Y-axis')\n",
    "\n",
    "# Add a line glyph\n",
    "p.line(x, y, legend_label=\"Line Plot\", line_width=2)\n",
    "\n",
    "# Show the plot\n",
    "show(p)"
   ]
  },
  {
   "cell_type": "code",
   "execution_count": null,
   "id": "f56672d5-d24f-419e-96f4-543f7ae6d942",
   "metadata": {},
   "outputs": [],
   "source": []
  },
  {
   "cell_type": "markdown",
   "id": "5a51946a-6d7f-4c74-90ef-ccf0a41b552b",
   "metadata": {},
   "source": [
    "Q2. What are glyphs in Bokeh, and how can you add them to a Bokeh plot? Explain with an example."
   ]
  },
  {
   "cell_type": "markdown",
   "id": "7ef03b6e-dd53-44a8-84bc-78eb055ecd1d",
   "metadata": {},
   "source": [
    "Glyphs are the visual elements that represent data points in a Bokeh plot. They can be lines,\n",
    "   circles, squares, rectangles, and many other shapes."
   ]
  },
  {
   "cell_type": "code",
   "execution_count": 6,
   "id": "d51988b3-3b3b-43bd-80a5-56ebd8c76e3b",
   "metadata": {},
   "outputs": [],
   "source": [
    "from bokeh.plotting import figure, show\n",
    "\n",
    "# Data\n",
    "x = [1, 2, 3, 4, 5]\n",
    "y = [6, 7, 2, 4, 5]\n",
    "\n",
    "# Create a figure\n",
    "p = figure(title=\"My Bokeh Line Plot\", x_axis_label='X-axis', y_axis_label='Y-axis')\n",
    "\n",
    "# Add a line glyph\n",
    "p.line(x, y, legend_label=\"Line Plot\", line_width=2)\n",
    "\n",
    "# Show the plot\n",
    "show(p)\n"
   ]
  },
  {
   "cell_type": "code",
   "execution_count": null,
   "id": "706e75c3-f5c1-445b-af61-c3f3cc48c65c",
   "metadata": {},
   "outputs": [],
   "source": []
  },
  {
   "cell_type": "markdown",
   "id": "a5e3e4a0-ad67-4324-88b2-8dcb678e5619",
   "metadata": {},
   "source": [
    "Q3. How can you customize the appearance of a Bokeh plot, including the axes, title, and legend?"
   ]
  },
  {
   "cell_type": "markdown",
   "id": "f57efcac-3a17-4d96-b2ae-bb7da2e58df2",
   "metadata": {},
   "source": [
    "1)Customizing Axes: You can customize the appearance of the axes using properties like axis_label, axis_label_standoff,\n",
    "                    axis_line_color, axis_line_width, major_label_text_color, etc.\n",
    "\n",
    "      p.xaxis.axis_label = \"X-axis Label\"\n",
    "      p.yaxis.axis_label = \"Y-axis Label\"\n",
    "      p.xaxis.axis_label_standoff = 10\n",
    "      p.yaxis.major_label_text_color = \"blue\"\n",
    "    \n",
    "2)Customizing Title: You can customize the title of the plot using the title attribute and adjust the title's font \n",
    "                     size, color, and alignment.\n",
    "\n",
    "      p.title.text = \"Customized Bokeh Plot Title\"\n",
    "      p.title.text_font_size = \"18pt\"\n",
    "      p.title.text_color = \"purple\"\n",
    "      p.title.align = \"center\"    \n",
    "    \n",
    "3)Customizing Legend: You can customize the appearance of the legend using attributes like legend.title, \n",
    "                      legend.label_text_font_size, legend.label_text_color, and more.\n",
    "\n",
    "      p.legend.title = \"My Legend\"\n",
    "      p.legend.label_text_font_size = \"12pt\"\n",
    "      p.legend.label_text_color = \"green\"  \n",
    "        \n",
    "4)Overall Plot Styling: You can also adjust the overall styling of the plot, including background color, grid lines,\n",
    "                        and plot width/height.\n",
    "\n",
    "      p.background_fill_color = \"lightgray\"\n",
    "      p.grid.grid_line_color = \"white\"\n",
    "      p.plot_width = 800\n",
    "      p.plot_height = 600        "
   ]
  },
  {
   "cell_type": "code",
   "execution_count": null,
   "id": "40a877f9-7368-4cdf-9a94-867220a111d0",
   "metadata": {},
   "outputs": [],
   "source": []
  },
  {
   "cell_type": "markdown",
   "id": "c53192ed-b4e4-4190-a16d-1fef811dc101",
   "metadata": {},
   "source": [
    "Q4. What is a Bokeh server, and how can you use it to create interactive plots that can be updated in\n",
    "real time?"
   ]
  },
  {
   "cell_type": "markdown",
   "id": "ac901466-7b71-45ad-9d94-09898be92872",
   "metadata": {},
   "source": [
    "Bokeh Server is a component of the Bokeh library that enables you to create interactive web applications\n",
    "with dynamic visualizations. Unlike static plots, Bokeh Server allows you to connect user interactions\n",
    "with Python code, enabling real-time updates to the plot.   \n",
    "\n"
   ]
  },
  {
   "cell_type": "code",
   "execution_count": 8,
   "id": "619c14ff-72fb-479c-9771-ad123cffcb5f",
   "metadata": {},
   "outputs": [],
   "source": [
    "from bokeh.plotting import figure, curdoc\n",
    "from bokeh.models import Slider\n",
    "from bokeh.layouts import column\n",
    "\n",
    "# Create a figure\n",
    "p = figure(title=\"Interactive Scatter Plot\")\n",
    "\n",
    "# Initial data\n",
    "x = [1, 2, 3, 4, 5]\n",
    "y = [6, 7, 2, 4, 5]\n",
    "\n",
    "# Create scatter plot\n",
    "scatter = p.circle(x, y, size=10, color='blue', alpha=0.8)\n",
    "\n",
    "# Create a slider\n",
    "slider = Slider(start=5, end=20, value=10, step=1, title=\"Point Size\")\n",
    "\n",
    "# Define callback function\n",
    "def update_size(attr, old, new):\n",
    "    scatter.glyph.size = slider.value\n",
    "\n",
    "# Attach callback to slider\n",
    "slider.on_change('value', update_size)\n",
    "\n",
    "# Create layout\n",
    "layout = column(p, slider)\n",
    "\n",
    "# Run Bokeh server application\n",
    "curdoc().add_root(layout)"
   ]
  },
  {
   "cell_type": "code",
   "execution_count": null,
   "id": "a3eed473-a84d-45de-9c08-775a96919c7e",
   "metadata": {},
   "outputs": [],
   "source": []
  },
  {
   "cell_type": "markdown",
   "id": "e09e4423-ed89-4fc4-94b4-e1c36de32225",
   "metadata": {},
   "source": [
    "Q5. How can you embed a Bokeh plot into a web page or dashboard using Flask or Django?"
   ]
  },
  {
   "cell_type": "markdown",
   "id": "2c07b2c2-31eb-458a-8fa8-673a468e7e7a",
   "metadata": {},
   "source": [
    "1)Create the Bokeh plot: Use bokeh.plotting or bokeh.models to create your desired plot.\n",
    "2)Generate HTML components: Employ bokeh.embed.components to convert the plot into HTML script and div elements.\n",
    "3)Integrate into web framework: Include the generated script and div in your Flask or Django template.\n",
    "4)Render the template: Serve the HTML template containing the embedded plot.\n",
    "5)Include BokehJS library: Ensure the BokehJS library is loaded in your HTML template for interactive features."
   ]
  },
  {
   "cell_type": "code",
   "execution_count": null,
   "id": "b6e3d8dd-a64e-4dcc-8f52-06615f76fae7",
   "metadata": {},
   "outputs": [],
   "source": []
  },
  {
   "cell_type": "code",
   "execution_count": null,
   "id": "674a4e3d-a9b2-49a3-8c1b-3e28d98ba2eb",
   "metadata": {},
   "outputs": [],
   "source": []
  },
  {
   "cell_type": "code",
   "execution_count": null,
   "id": "754102b7-9b4a-4166-a5d0-7a63a2413bb7",
   "metadata": {},
   "outputs": [],
   "source": []
  },
  {
   "cell_type": "code",
   "execution_count": null,
   "id": "6155b22e-465d-4864-82a0-6917a3f94a25",
   "metadata": {},
   "outputs": [],
   "source": []
  },
  {
   "cell_type": "code",
   "execution_count": null,
   "id": "71bf8113-51db-48e7-81f3-decf3685a73c",
   "metadata": {},
   "outputs": [],
   "source": []
  },
  {
   "cell_type": "code",
   "execution_count": null,
   "id": "6d915537-233d-4b27-9c4e-20c57ea2b156",
   "metadata": {},
   "outputs": [],
   "source": []
  },
  {
   "cell_type": "code",
   "execution_count": null,
   "id": "44c0e600-c3b7-4586-93bd-fdf5446c95bc",
   "metadata": {},
   "outputs": [],
   "source": []
  },
  {
   "cell_type": "code",
   "execution_count": null,
   "id": "c95d1933-73d3-40ab-9ef4-83c94e055269",
   "metadata": {},
   "outputs": [],
   "source": []
  },
  {
   "cell_type": "code",
   "execution_count": null,
   "id": "4be6815b-8bf7-4342-a4d6-e53df824d7c8",
   "metadata": {},
   "outputs": [],
   "source": []
  }
 ],
 "metadata": {
  "kernelspec": {
   "display_name": "Python 3 (ipykernel)",
   "language": "python",
   "name": "python3"
  },
  "language_info": {
   "codemirror_mode": {
    "name": "ipython",
    "version": 3
   },
   "file_extension": ".py",
   "mimetype": "text/x-python",
   "name": "python",
   "nbconvert_exporter": "python",
   "pygments_lexer": "ipython3",
   "version": "3.10.8"
  }
 },
 "nbformat": 4,
 "nbformat_minor": 5
}
